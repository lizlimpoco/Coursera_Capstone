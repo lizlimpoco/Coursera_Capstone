{
    "cells": [
        {
            "cell_type": "markdown",
            "metadata": {
                "collapsed": true
            },
            "source": "# Davao City, Philippines: A Booming City in the South"
        },
        {
            "cell_type": "markdown",
            "metadata": {},
            "source": "## Introduction/Business Problem"
        },
        {
            "cell_type": "markdown",
            "metadata": {},
            "source": "> Recent changes in the Philippine government administration paved the way for decentralization of development plans. What was formerly the mindset of focusing on beautifying and advancing the capital of the country has now been changed into strengthening the other potentially progressive cities and municipalities. One such rising city in the south is Davao City.       \n  \n  > Those who have resided in Davao City for a long time can attest to the rapid developments taking place in the city. High-rise buildings and business establishments which have previously been rare are now appearing like mushrooms, not to mention the increase in traffic flow and congestion as more and more citizens are being financially capable of owning private vehicles. People from surrounding cities and municipalities swarm because of the education and job opportunities the city has to offer. For a business man who wants to invest and take advantage of the flourishing economy in this city, a good understanding of the existing venues (or lack thereof) spread all over the city would be a good starting point. Thus, this project aims to provide a geospatial analysis of the venue categories found in the barangays in Davao City. Specifically, the barangays will be clustered according to the venue categories in order to identify potential business ventures as well as the location of such.\n  \n> This project will provide valuable information to businessmen who want to determine which category of venue will be most promising for a particular area, considering the existing venues nearby. Furthermore, the results of the project may also help city planners identify barangays which can potentially cater to certain categories of venues, thereby contributing to strategic planning of new venues."
        },
        {
            "cell_type": "markdown",
            "metadata": {},
            "source": "## Data Description"
        },
        {
            "cell_type": "code",
            "execution_count": null,
            "metadata": {},
            "outputs": [],
            "source": ""
        }
    ],
    "metadata": {
        "kernelspec": {
            "display_name": "Python 3.6",
            "language": "python",
            "name": "python3"
        },
        "language_info": {
            "codemirror_mode": {
                "name": "ipython",
                "version": 3
            },
            "file_extension": ".py",
            "mimetype": "text/x-python",
            "name": "python",
            "nbconvert_exporter": "python",
            "pygments_lexer": "ipython3",
            "version": "3.6.8"
        }
    },
    "nbformat": 4,
    "nbformat_minor": 1
}